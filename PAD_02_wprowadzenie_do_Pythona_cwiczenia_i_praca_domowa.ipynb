{
 "cells": [
  {
   "cell_type": "markdown",
   "metadata": {
    "id": "YBf77-O2VMaK"
   },
   "source": [
    "## iterator"
   ]
  },
  {
   "cell_type": "code",
   "execution_count": 1,
   "metadata": {
    "id": "MobBtdWEVEu1"
   },
   "outputs": [],
   "source": [
    "'''\n",
    "Zadanie 1\n",
    "Zaimplementuj własny iterator o nazwie tetranacci, zwracający kolejne liczby ciągu Tetranacciego.\n",
    "Funkcja __init__ powinna posiadać parametr o nazwie steps określający liczbę wyrazów ciągu,\n",
    "po których funkcja __next__ rzuca wyjątek StopIteration.\n",
    "Napisz program, w którym wykorzystasz swój iterator do wypisania na ekranie kolejnych wyrazów tego ciągu.\n",
    "Niech liczbę wyrazów do wypisania podaje użytkownik.\n",
    "\n",
    "'''\n",
    "class Tetranacci():\n",
    "    def __init__(self, steps):\n",
    "        self.steps = steps\n",
    "        self.values = [0, 0, 0, 1]\n",
    "        \n",
    "    def __iter__(self):\n",
    "        return self\n",
    "\n",
    "    def __next__(self):\n",
    "        if self.steps == 0:\n",
    "           raise StopIteration\n",
    "\n",
    "        self.steps -= 1\n",
    "        \n",
    "        current_num = self.values[0]\n",
    "        next_tet = sum(self.values)\n",
    "        self.values = self.values[1:] + [next_tet]\n",
    "\n",
    "        return current_num"
   ]
  },
  {
   "cell_type": "code",
   "execution_count": 2,
   "metadata": {},
   "outputs": [
    {
     "name": "stdout",
     "output_type": "stream",
     "text": [
      "How many Tetranacci numbers to print? 9\n",
      "0\n",
      "0\n",
      "0\n",
      "1\n",
      "1\n",
      "2\n",
      "4\n",
      "8\n",
      "15\n"
     ]
    }
   ],
   "source": [
    "n = int(input('How many Tetranacci numbers to print? '))\n",
    "tet_numbers = Tetranacci(n)\n",
    "\n",
    "for tet in tet_numbers:\n",
    "    print(tet)"
   ]
  },
  {
   "cell_type": "code",
   "execution_count": 3,
   "metadata": {},
   "outputs": [
    {
     "name": "stdout",
     "output_type": "stream",
     "text": [
      "0\n",
      "0\n",
      "0\n",
      "1\n"
     ]
    },
    {
     "ename": "StopIteration",
     "evalue": "",
     "output_type": "error",
     "traceback": [
      "\u001b[0;31m---------------------------------------------------------------------------\u001b[0m",
      "\u001b[0;31mStopIteration\u001b[0m                             Traceback (most recent call last)",
      "\u001b[0;32m<ipython-input-3-969955e03fa2>\u001b[0m in \u001b[0;36m<module>\u001b[0;34m\u001b[0m\n\u001b[1;32m      4\u001b[0m \u001b[0mprint\u001b[0m\u001b[0;34m(\u001b[0m\u001b[0mnext\u001b[0m\u001b[0;34m(\u001b[0m\u001b[0mtet\u001b[0m\u001b[0;34m)\u001b[0m\u001b[0;34m)\u001b[0m\u001b[0;34m\u001b[0m\u001b[0;34m\u001b[0m\u001b[0m\n\u001b[1;32m      5\u001b[0m \u001b[0mprint\u001b[0m\u001b[0;34m(\u001b[0m\u001b[0mnext\u001b[0m\u001b[0;34m(\u001b[0m\u001b[0mtet\u001b[0m\u001b[0;34m)\u001b[0m\u001b[0;34m)\u001b[0m\u001b[0;34m\u001b[0m\u001b[0;34m\u001b[0m\u001b[0m\n\u001b[0;32m----> 6\u001b[0;31m \u001b[0mprint\u001b[0m\u001b[0;34m(\u001b[0m\u001b[0mnext\u001b[0m\u001b[0;34m(\u001b[0m\u001b[0mtet\u001b[0m\u001b[0;34m)\u001b[0m\u001b[0;34m)\u001b[0m\u001b[0;34m\u001b[0m\u001b[0;34m\u001b[0m\u001b[0m\n\u001b[0m",
      "\u001b[0;32m<ipython-input-1-7db28e1e5f7f>\u001b[0m in \u001b[0;36m__next__\u001b[0;34m(self)\u001b[0m\n\u001b[1;32m     18\u001b[0m     \u001b[0;32mdef\u001b[0m \u001b[0m__next__\u001b[0m\u001b[0;34m(\u001b[0m\u001b[0mself\u001b[0m\u001b[0;34m)\u001b[0m\u001b[0;34m:\u001b[0m\u001b[0;34m\u001b[0m\u001b[0;34m\u001b[0m\u001b[0m\n\u001b[1;32m     19\u001b[0m         \u001b[0;32mif\u001b[0m \u001b[0mself\u001b[0m\u001b[0;34m.\u001b[0m\u001b[0msteps\u001b[0m \u001b[0;34m==\u001b[0m \u001b[0;36m0\u001b[0m\u001b[0;34m:\u001b[0m\u001b[0;34m\u001b[0m\u001b[0;34m\u001b[0m\u001b[0m\n\u001b[0;32m---> 20\u001b[0;31m            \u001b[0;32mraise\u001b[0m \u001b[0mStopIteration\u001b[0m\u001b[0;34m\u001b[0m\u001b[0;34m\u001b[0m\u001b[0m\n\u001b[0m\u001b[1;32m     21\u001b[0m \u001b[0;34m\u001b[0m\u001b[0m\n\u001b[1;32m     22\u001b[0m         \u001b[0mself\u001b[0m\u001b[0;34m.\u001b[0m\u001b[0msteps\u001b[0m \u001b[0;34m-=\u001b[0m \u001b[0;36m1\u001b[0m\u001b[0;34m\u001b[0m\u001b[0;34m\u001b[0m\u001b[0m\n",
      "\u001b[0;31mStopIteration\u001b[0m: "
     ]
    }
   ],
   "source": [
    "tet = Tetranacci(4)\n",
    "print(next(tet))\n",
    "print(next(tet))\n",
    "print(next(tet))\n",
    "print(next(tet))\n",
    "print(next(tet))"
   ]
  },
  {
   "cell_type": "markdown",
   "metadata": {
    "id": "HgA0kNjTVXwG"
   },
   "source": [
    "## generator"
   ]
  },
  {
   "cell_type": "code",
   "execution_count": 4,
   "metadata": {
    "id": "hl3BhofyVdoH"
   },
   "outputs": [
    {
     "data": {
      "text/plain": [
       "[1, 3, 6, 10, 15, 21]"
      ]
     },
     "execution_count": 4,
     "metadata": {},
     "output_type": "execute_result"
    }
   ],
   "source": [
    "'''\n",
    "Zadanie 2\n",
    "Zaimplementuj własny generator o nazwie accumulate,\n",
    "zwracający kolejne sumy elementów z podanego obiektu iterowalnego.\n",
    "'''\n",
    "def accumulate(iter_object):\n",
    "    total = 0\n",
    "    for val in iter_object:\n",
    "        total += val\n",
    "        yield total\n",
    "\n",
    "it_ob = [1,2,3,4,5,6]\n",
    "acc = accumulate(it_ob)\n",
    "list(acc)"
   ]
  },
  {
   "cell_type": "code",
   "execution_count": 5,
   "metadata": {
    "id": "ffhbiOTJVnmB"
   },
   "outputs": [
    {
     "name": "stdout",
     "output_type": "stream",
     "text": [
      "Hello\n",
      "Nice to meet you K\n"
     ]
    }
   ],
   "source": [
    "'''\n",
    "Zadanie 3\n",
    "\n",
    "Napisz własny dekorator o nazwie hello. Wynikiem jego działania powinno być:\n",
    "• wypisanie na ekranie napisu hello\n",
    "• wywołanie funkcji przekazanej jako argument.\n",
    "'''\n",
    "def hello(func):\n",
    "    def wrapper(*args, **kwargs):\n",
    "        print(\"Hello\")\n",
    "        return func(*args, **kwargs)\n",
    "    return wrapper\n",
    "\n",
    "@hello\n",
    "def greet(name):\n",
    "    print(f\"Nice to meet you {name}\")\n",
    "\n",
    "greet(\"K\")"
   ]
  },
  {
   "cell_type": "code",
   "execution_count": 6,
   "metadata": {
    "id": "NjZRSS6sVrm5"
   },
   "outputs": [
    {
     "name": "stdout",
     "output_type": "stream",
     "text": [
      "15\n"
     ]
    }
   ],
   "source": [
    "'''\n",
    "Zadanie 4\n",
    "Zaimplementuj własną funkcję o nazwie tetranacci, zwracający określony element ciągu Tetranacciego.\n",
    "Funkcja powinna posiadać parametr o nazwie n określający numer wyrazu ciągu do obliczenia.\n",
    "Obliczenia wykonuj rekurencyjnie.\n",
    "'''\n",
    "def tetranacci(n):\n",
    "    if n == 1 or n == 2 or n == 3:\n",
    "        return 0\n",
    "    elif n == 4:\n",
    "        return 1\n",
    "    else:\n",
    "        return tetranacci(n - 1) + tetranacci(n - 2) + tetranacci(n - 3) + tetranacci(n - 4)\n",
    "    \n",
    "print(tetranacci(9))"
   ]
  },
  {
   "cell_type": "markdown",
   "metadata": {
    "id": "eDFgAg3cWRAk"
   },
   "source": [
    "## klasy"
   ]
  },
  {
   "cell_type": "code",
   "execution_count": 7,
   "metadata": {
    "id": "LMrKGhhSWMM8"
   },
   "outputs": [
    {
     "name": "stdout",
     "output_type": "stream",
     "text": [
      "{'predkosc_max': 800, 'przebieg': 7878879}\n",
      "{'predkosc_max': 800, 'przebieg': 7878879}\n"
     ]
    }
   ],
   "source": [
    "'''\n",
    "Zadanie 5\n",
    "Stwórz klasę Pojazd z atrybutami predkosc_max i przebieg\n",
    "stwórz instancję klasy i wydrukuj jej atrybuty do konsoli\n",
    "tworzac instancję możesz podać dowolne wielkości\n",
    "'''\n",
    "class Pojazd:\n",
    "    def __init__(self, predkosc_max, przebieg):\n",
    "        self.predkosc_max = predkosc_max\n",
    "        self.przebieg = przebieg\n",
    "\n",
    "pojazd = Pojazd(800, 7878879)\n",
    "print(vars(pojazd))\n",
    "print(pojazd.__dict__)"
   ]
  },
  {
   "cell_type": "code",
   "execution_count": 8,
   "metadata": {
    "id": "z_dYT1f5Wexv"
   },
   "outputs": [
    {
     "name": "stdout",
     "output_type": "stream",
     "text": [
      "{'predkosc_max': 150, 'przebieg': 89798, 'model': 'Mercedes A'}\n"
     ]
    }
   ],
   "source": [
    "'''\n",
    "Zadanie 6\n",
    "Stwórz klasę Autobus, która dziedziczy po Pojeździe utworzonym wcześniej,\n",
    "ale do atrybutów Pojazdu dodaj jeszcze nazwę modelu\n",
    "stwórz instancję klasy i wydrukuj jej atrybuty\n",
    "'''\n",
    "class Autobus(Pojazd):\n",
    "    def __init__(self, predkosc_max, przebieg, model):\n",
    "        super().__init__(predkosc_max, przebieg)\n",
    "        self.model = model\n",
    "\n",
    "bus = Autobus(150, 89798, 'Mercedes A')\n",
    "print(bus.__dict__)"
   ]
  },
  {
   "cell_type": "code",
   "execution_count": 9,
   "metadata": {
    "id": "CDj9cBQoWj-v"
   },
   "outputs": [
    {
     "name": "stdout",
     "output_type": "stream",
     "text": [
      "Mercedes A pomieści 50 osób.\n",
      "Mercedes A pomieści 20 osób.\n",
      "Porsche pomieści 20 osób.\n"
     ]
    },
    {
     "ename": "TypeError",
     "evalue": "liczba_miejsc() missing 1 required positional argument: 'miejsca'",
     "output_type": "error",
     "traceback": [
      "\u001b[0;31m---------------------------------------------------------------------------\u001b[0m",
      "\u001b[0;31mTypeError\u001b[0m                                 Traceback (most recent call last)",
      "\u001b[0;32m<ipython-input-9-b9e61aa6fe34>\u001b[0m in \u001b[0;36m<module>\u001b[0;34m\u001b[0m\n\u001b[1;32m     25\u001b[0m \u001b[0mbus\u001b[0m\u001b[0;34m.\u001b[0m\u001b[0mliczba_miejsc\u001b[0m\u001b[0;34m(\u001b[0m\u001b[0;36m20\u001b[0m\u001b[0;34m)\u001b[0m\u001b[0;34m\u001b[0m\u001b[0;34m\u001b[0m\u001b[0m\n\u001b[1;32m     26\u001b[0m \u001b[0mpojazd\u001b[0m\u001b[0;34m.\u001b[0m\u001b[0mliczba_miejsc\u001b[0m\u001b[0;34m(\u001b[0m\u001b[0;36m20\u001b[0m\u001b[0;34m)\u001b[0m\u001b[0;34m\u001b[0m\u001b[0;34m\u001b[0m\u001b[0m\n\u001b[0;32m---> 27\u001b[0;31m \u001b[0mpojazd\u001b[0m\u001b[0;34m.\u001b[0m\u001b[0mliczba_miejsc\u001b[0m\u001b[0;34m(\u001b[0m\u001b[0;34m)\u001b[0m\u001b[0;34m\u001b[0m\u001b[0;34m\u001b[0m\u001b[0m\n\u001b[0m",
      "\u001b[0;31mTypeError\u001b[0m: liczba_miejsc() missing 1 required positional argument: 'miejsca'"
     ]
    }
   ],
   "source": [
    "'''\n",
    "Zadanie 7\n",
    "klasie Pojazd utwórz metodę liczba_miejsc, która będzie przyjmowała jako argument liczbę miejsc i wyświetlała komunikat:\n",
    "\"{TU WSTAWIMY NAZWE POJAZDU} pomieści {LICZBA MIEJSC} osób.\"\n",
    "Klasa Autobus ma też dziedziczyć tę metodę, ale dodatkowo przyjmować wartość domyślną dla liczby miejsc = 50\n",
    "Utwórz instancję klasy aby zaprezentować działanie\n",
    "'''\n",
    "class Pojazd:\n",
    "    def __init__(self, predkosc_max, przebieg, model):\n",
    "        self.predkosc_max = predkosc_max\n",
    "        self.przebieg = przebieg\n",
    "        self.model = model\n",
    "\n",
    "    def liczba_miejsc(self, miejsca):\n",
    "        self.miejsca = miejsca\n",
    "        print(f'{self.model} pomieści {self.miejsca} osób.')\n",
    "\n",
    "class Autobus(Pojazd):\n",
    "    def liczba_miejsc(self, miejsca=50):\n",
    "        return super().liczba_miejsc(miejsca)\n",
    "    \n",
    "bus = Autobus(150, 20000, 'Mercedes A')\n",
    "pojazd = Pojazd(300, 1000, 'Porsche')\n",
    "bus.liczba_miejsc()\n",
    "bus.liczba_miejsc(20)\n",
    "pojazd.liczba_miejsc(20)\n",
    "pojazd.liczba_miejsc()"
   ]
  },
  {
   "cell_type": "code",
   "execution_count": 10,
   "metadata": {
    "id": "y2s80EMmWrKP"
   },
   "outputs": [
    {
     "name": "stdout",
     "output_type": "stream",
     "text": [
      "True\n"
     ]
    }
   ],
   "source": [
    "'''\n",
    "Zadanie 8\n",
    "Sprawdź czy obiekt autobus jest instancją klasy Pojazd\n",
    "'''\n",
    "print(isinstance(bus, Pojazd))"
   ]
  },
  {
   "cell_type": "markdown",
   "metadata": {
    "id": "jjNBmv7pVwP_"
   },
   "source": [
    "## PRACA DOMOWA (15 pkt)"
   ]
  },
  {
   "cell_type": "code",
   "execution_count": 11,
   "metadata": {
    "id": "TTUMq_uuVx32"
   },
   "outputs": [],
   "source": [
    "'''\n",
    "Zadanie 1 (4 pkt)\n",
    "Wykorzystując dekoratory, napisz cache dla funkcji tetranacci z poprzedniego zadania.\n",
    "Ten dekorator powinien zapobiegać przed ponownym obliczaniem tych samych wartości.\n",
    "'''\n",
    "\n",
    "def cache(tet):\n",
    "    cached_elems = {}\n",
    "    # funkcja tetranacci przyjmuje tylko jeden element: n\n",
    "    def wrapper(n):\n",
    "        # sprawdzamy czy n-ta liczba jest w cache\n",
    "        if n not in cached_elems:\n",
    "            cached_elems[n] = tet(n)\n",
    "        return cached_elems[n]\n",
    "    return wrapper\n",
    "\n",
    "@cache\n",
    "def tetranacci_cached(n):\n",
    "    if n == 1 or n == 2 or n == 3:\n",
    "        return 0\n",
    "    elif n == 4:\n",
    "        return 1\n",
    "    else:\n",
    "        return tetranacci(n - 1) + tetranacci(n - 2) + tetranacci(n - 3) + tetranacci(n - 4)"
   ]
  },
  {
   "cell_type": "code",
   "execution_count": 12,
   "metadata": {},
   "outputs": [
    {
     "name": "stdout",
     "output_type": "stream",
     "text": [
      "Execution time without cache: 0.02371501922607422; result: 20569\n"
     ]
    }
   ],
   "source": [
    "import time\n",
    "\n",
    "start = time.time()\n",
    "tet1 = tetranacci(20)\n",
    "end = time.time()\n",
    "print(f'Execution time without cache: {end - start}; result: {tet1}')"
   ]
  },
  {
   "cell_type": "code",
   "execution_count": 14,
   "metadata": {},
   "outputs": [
    {
     "name": "stdout",
     "output_type": "stream",
     "text": [
      "Execution time with cache: 0.00012421607971191406; result: 20569\n"
     ]
    }
   ],
   "source": [
    "start = time.time()\n",
    "tet2 = tetranacci_cached(20)\n",
    "end = time.time()\n",
    "print(f'Execution time with cache: {end - start}; result: {tet2}')"
   ]
  },
  {
   "cell_type": "code",
   "execution_count": 15,
   "metadata": {
    "id": "Q_Ur2Z9uWF-l"
   },
   "outputs": [],
   "source": [
    "'''\n",
    "Zadanie 2 (4 pkt)\n",
    "Zaimplementuj własny generator o nazwie repeat, zwracający obiekt podany przez użytkownika dokładnie N razy.\n",
    "Jeśli wartość parametru N nie została określona, generator powinien zwracać wartości w nieskończoność.\n",
    "\n",
    "PRZYKŁAD\n",
    "repeat(10, 3) → 10 10 10\n",
    "repeat(10, 5) → 10 10 10 10 10\n",
    "repeat(5) → 5 5 5 5 5 5 5 5 5 5 5 5 5 5 5…\n",
    "repeat(5, None) → 5 5 5 5 5 5 5 5 5 5 5 5 5 5 5…\n",
    "'''\n",
    "\n",
    "def repeat(number, N=None):\n",
    "    if N is None:\n",
    "        while(True): \n",
    "            yield number\n",
    "    else:\n",
    "        while(N > 0):\n",
    "            yield number\n",
    "            N -= 1"
   ]
  },
  {
   "cell_type": "code",
   "execution_count": 16,
   "metadata": {},
   "outputs": [
    {
     "name": "stdout",
     "output_type": "stream",
     "text": [
      "Podaj liczbę: 9\n",
      "Podaj ilość powtórzeń: 5\n",
      "9\n",
      "9\n",
      "9\n",
      "9\n",
      "9\n"
     ]
    }
   ],
   "source": [
    "number = int(input('Podaj liczbę: '))\n",
    "N = int(input('Podaj ilość powtórzeń: ') or 0)\n",
    "N = N if N != 0 else None \n",
    "\n",
    "for val in repeat(number, N):\n",
    "    print(val)"
   ]
  },
  {
   "cell_type": "code",
   "execution_count": 17,
   "metadata": {
    "id": "gChh80FsWzT7"
   },
   "outputs": [
    {
     "name": "stdout",
     "output_type": "stream",
     "text": [
      "Porsche pomieści 4 osób.\n",
      "Pojazd: {'predkosc_max': 400, 'przebieg': 20000, 'model': 'Porsche', 'kolor': 'biały', 'miejsca': 4}\n",
      "Mercedes pomieści 50 osób.\n",
      "Autobus: {'predkosc_max': 150, 'przebieg': 10000, 'model': 'Mercedes', 'kolor': 'biały', 'miejsca': 50}\n"
     ]
    }
   ],
   "source": [
    "'''\n",
    "Zadanie 3 (1 pkt)\n",
    "W kodzie z zajęć w klasie Pojazd utwórz atrybut, który niezależnie od utworzonego obiektu będzie miał taką samą wartość.\n",
    "każdy obiekt ma mieć kolor biały\n",
    "'''\n",
    "class Pojazd:\n",
    "    def __init__(self, predkosc_max, przebieg, model):\n",
    "        self.predkosc_max = predkosc_max\n",
    "        self.przebieg = przebieg\n",
    "        self.model = model\n",
    "        self.kolor = 'biały'\n",
    "\n",
    "    def liczba_miejsc(self, miejsca):\n",
    "        self.miejsca = miejsca\n",
    "        print(f'{self.model} pomieści {self.miejsca} osób.')\n",
    "\n",
    "class Autobus(Pojazd):        \n",
    "    def liczba_miejsc(self, miejsca=50):\n",
    "        return super().liczba_miejsc(miejsca)\n",
    "    \n",
    "pojazd = Pojazd(400, 20000, 'Porsche')\n",
    "pojazd.liczba_miejsc(4)\n",
    "print('Pojazd:', pojazd.__dict__)\n",
    "\n",
    "bus = Autobus(150, 10000, 'Mercedes')\n",
    "bus.liczba_miejsc()\n",
    "print('Autobus:', bus.__dict__)"
   ]
  },
  {
   "cell_type": "code",
   "execution_count": 18,
   "metadata": {
    "id": "Q4Js_zjIXHZi"
   },
   "outputs": [
    {
     "name": "stdout",
     "output_type": "stream",
     "text": [
      "ERROR: Ilość miejsc nie została podana\n",
      "None\n",
      "Pojazd: {'predkosc_max': 400, 'przebieg': 20000, 'model': 'Porsche', 'kolor': 'biały', 'miejsca': None}\n",
      "Porsche pomieści 4 osób.\n",
      "Opłata, pojazd: 400\n",
      "Pojazd: {'predkosc_max': 400, 'przebieg': 20000, 'model': 'Porsche', 'kolor': 'biały', 'miejsca': 4, 'oplata': 400}\n",
      "\n",
      "Mercedes pomieści 50 osób.\n",
      "Autobus: {'predkosc_max': 150, 'przebieg': 10000, 'model': 'Mercedes', 'kolor': 'biały', 'miejsca': 50}\n",
      "Opłata, autobus: 5500.0\n",
      "Autobus: {'predkosc_max': 150, 'przebieg': 10000, 'model': 'Mercedes', 'kolor': 'biały', 'miejsca': 50, 'oplata': 5500.0}\n"
     ]
    }
   ],
   "source": [
    "'''\n",
    "Zadanie 4 (2 pkt)\n",
    "Wykorzystaj klasy Autobus i Pojazd.\n",
    "Zdefiniuj metodę opłata, która będzie miała wartość domyślną liczba_miejsc * 100\n",
    "Jeżeli Pojazd jest instancją Autobusu, opłata ma zostać powiększona o 10% wartości opłaty początkowej.\n",
    "Np. jeżeli autobus domyślnie ma 50 miejsc to opłata całkowita wyniesie 5500\n",
    "'''\n",
    "\n",
    "class Pojazd:\n",
    "    def __init__(self, predkosc_max, przebieg, model):\n",
    "        self.predkosc_max = predkosc_max\n",
    "        self.przebieg = przebieg\n",
    "        self.model = model\n",
    "        self.kolor = 'biały'\n",
    "        self.miejsca = None\n",
    "\n",
    "    def liczba_miejsc(self, miejsca):\n",
    "        self.miejsca = miejsca\n",
    "        print(f'{self.model} pomieści {self.miejsca} osób.')\n",
    "    \n",
    "    def oplata(self):\n",
    "        try:\n",
    "            if isinstance(self, Autobus):\n",
    "                self.oplata = self.miejsca * 100\n",
    "                self.oplata = self.oplata + 0.1 * self.oplata\n",
    "                return self.oplata\n",
    "            else:\n",
    "                self.oplata = self.miejsca * 100\n",
    "                return self.oplata\n",
    "        except TypeError:\n",
    "            print('ERROR: Ilość miejsc nie została podana')\n",
    "            \n",
    "\n",
    "class Autobus(Pojazd):\n",
    "    def liczba_miejsc(self, miejsca=50):\n",
    "        return super().liczba_miejsc(miejsca)\n",
    "    \n",
    "    \n",
    "pojazd = Pojazd(400, 20000, 'Porsche')\n",
    "print(pojazd.oplata())\n",
    "print('Pojazd:', pojazd.__dict__)\n",
    "pojazd.liczba_miejsc(4)\n",
    "print('Opłata, pojazd:', pojazd.oplata())\n",
    "print('Pojazd:', pojazd.__dict__)\n",
    "print()\n",
    "\n",
    "bus = Autobus(150, 10000, 'Mercedes')\n",
    "bus.liczba_miejsc()\n",
    "print('Autobus:', bus.__dict__)\n",
    "print('Opłata, autobus:', bus.oplata())\n",
    "print('Autobus:', bus.__dict__)"
   ]
  },
  {
   "cell_type": "code",
   "execution_count": 19,
   "metadata": {
    "id": "BsdImsIAXXsu"
   },
   "outputs": [
    {
     "name": "stdout",
     "output_type": "stream",
     "text": [
      "2x^2 + 3x + 1\n",
      "1\n",
      "6\n",
      "Nieskończenie wiele rowiązań\n",
      "Brak rozwiązań\n",
      "Jedno miejsce zerowe -1.5\n",
      "Dwa zespolone pierwiastki: -1.0+i1.415, -1.0-i1.415\n",
      "Dwa miejsca zerowe: 3.0, 2.0\n",
      "Jedno miejsce zerowe: -2.0\n"
     ]
    }
   ],
   "source": [
    "'''\n",
    "Zadanie 5 (4 pkt)\n",
    "Napisz klasę FunkcjaKwadratowa, która przechowuje funkcje typu $ax^2$+bx+c.\n",
    "Klasa powinna zawierać trzy pola: a, b, c, które są przypisywane w konstruktorze.\n",
    "Główną metodą powinna być rozwiaz(), która zwraca miejsca zerowe podanej funkcji.\n",
    "Należy zwrócić uwagę na przypadki gdy a=0, b=0 lub c=0,\n",
    "a także obmyślić sposób informowania o nieskończonej liczbie, jednym lub zerze rozwiązań.\n",
    "'''\n",
    "\n",
    "'''\n",
    "początek kodu dla ułatwienia\n",
    "\n",
    "'''\n",
    "import math\n",
    "\n",
    "class FunkcjaKwadratowa:\n",
    "    def __init__(self, a, b, c):\n",
    "        self.a = a\n",
    "        self.b = b\n",
    "        self.c = c\n",
    "\n",
    "    def wypisz(self):\n",
    "        print(f'{self.a}x^2 + {self.b}x + {self.c}')\n",
    "\n",
    "    def oblicz_wartosc(self, x):\n",
    "        return self.a * x**2 + self.b * x + self.c\n",
    "\n",
    "    def rozwiaz(self):\n",
    "        if self.a == 0:\n",
    "            if self.b == 0:\n",
    "                if self.c == 0:\n",
    "                    # 0 = 0 equation\n",
    "                    return 'Nieskończenie wiele rowiązań'\n",
    "                else:\n",
    "                    # c = 0\n",
    "                    return 'Brak rozwiązań'\n",
    "            else:\n",
    "                # bx + c = 0 -> x = -c/b\n",
    "                return f'Jedno miejsce zerowe {-self.c / self.b}'\n",
    "        else:\n",
    "            delta = self.b**2 - 4 * self.a * self.c\n",
    "            if delta == 0:\n",
    "                return f'Jedno miejsce zerowe: {-self.b/(2 * self.a)}'\n",
    "            elif delta > 0:\n",
    "                sqrt_d = math.sqrt(delta)\n",
    "                x1 = (-self.b + sqrt_d) / (2 * self.a)\n",
    "                x2 = (-self.b - sqrt_d) / (2 * self.a)\n",
    "                return f'Dwa miejsca zerowe: {x1}, {x2}'\n",
    "            else:\n",
    "                # d = i^2*|d| -> sqrt(d) = i * sqrt(|d|)\n",
    "                sqrt_d = round(math.sqrt(-delta), 2)\n",
    "                real = -self.b / (2 * self.a)\n",
    "                im = sqrt_d / (2 * self.a)\n",
    "                return f'Dwa zespolone pierwiastki: {real}+i{im}, {real}-i{im}'\n",
    "\n",
    "def main():\n",
    "    f1 = FunkcjaKwadratowa(2, 3, 1)\n",
    "    f1.wypisz()\n",
    "    print(f1.oblicz_wartosc(0))\n",
    "    print(f1.oblicz_wartosc(1))\n",
    "\n",
    "    print(FunkcjaKwadratowa(0, 0, 0).rozwiaz())\n",
    "    print(FunkcjaKwadratowa(0, 0, 1).rozwiaz())\n",
    "    print(FunkcjaKwadratowa(0, 2, 3).rozwiaz())\n",
    "    print(FunkcjaKwadratowa(1, 2, 3).rozwiaz())\n",
    "    print(FunkcjaKwadratowa(1, -5, 6).rozwiaz())\n",
    "    print(FunkcjaKwadratowa(1, 4, 4).rozwiaz())\n",
    "\n",
    "if __name__ == \"__main__\":\n",
    "    main()"
   ]
  }
 ],
 "metadata": {
  "colab": {
   "authorship_tag": "ABX9TyPfvCA8avt9JyH+RrMyhpFb",
   "provenance": []
  },
  "kernelspec": {
   "display_name": "Python 3",
   "language": "python",
   "name": "python3"
  },
  "language_info": {
   "codemirror_mode": {
    "name": "ipython",
    "version": 3
   },
   "file_extension": ".py",
   "mimetype": "text/x-python",
   "name": "python",
   "nbconvert_exporter": "python",
   "pygments_lexer": "ipython3",
   "version": "3.9.1"
  }
 },
 "nbformat": 4,
 "nbformat_minor": 1
}
