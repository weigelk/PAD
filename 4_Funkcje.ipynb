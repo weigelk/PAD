{
  "cells": [
    {
      "cell_type": "markdown",
      "metadata": {
        "id": "DQTYw5lq-gB_"
      },
      "source": [
        "# Funkcje"
      ]
    },
    {
      "cell_type": "markdown",
      "metadata": {
        "id": "hXrDO_ns-gCA"
      },
      "source": [
        "## Definiowanie Fukncji"
      ]
    },
    {
      "cell_type": "markdown",
      "metadata": {
        "id": "_3XH2rGT-gCB"
      },
      "source": [
        "- Widzieliśmy już pętle for jako sposób na przestrzeganie zasady DRY (Don't Repeat Yourself).\n",
        "- Następnym ważnym krokiem są funkcje.\n",
        "- Funkcje umożliwiają zaprogramowanie bloku kodu, który działa tylko po wywołaniu.\n",
        "- Oznacza to, że możemy uniknąć konieczności ponownego definiowania tych samych operacji, gdy wykonujemy je wielokrotnie.\n",
        "<br><br>\n",
        "- Funkcja przyjmuje parametry i zwraca dane wyjściowe.\n",
        "- Wartość przekazana jako parametr nazywana jest argumentem.\n",
        "- Funkcja powiązana z obiektem nazywana jest metodą.\n",
        "- Instancja funkcji nazywana jest wywołaniem funkcji.\n",
        "- Podstawowa składnia funkcji jest następująca:"
      ]
    },
    {
      "cell_type": "code",
      "execution_count": 1,
      "metadata": {
        "id": "ryfjumjl-gCB"
      },
      "outputs": [],
      "source": [
        "# function definition\n",
        "def function_name (param1, param2 = 1):\n",
        "    '''\n",
        "    DOCSTRING: explains function\n",
        "    INPUT: Name (str)\n",
        "    OUTPUT: Hello Name (str)\n",
        "    '''\n",
        "    # add code to run\n",
        "    return(\"Hello \" + param1)"
      ]
    },
    {
      "cell_type": "code",
      "execution_count": 2,
      "metadata": {
        "colab": {
          "base_uri": "https://localhost:8080/",
          "height": 35
        },
        "id": "NJs-Yvdc-gCB",
        "outputId": "bb03899b-974a-4ed0-d8f2-d1b466576af0"
      },
      "outputs": [
        {
          "output_type": "execute_result",
          "data": {
            "text/plain": [
              "'Hello Zain'"
            ],
            "application/vnd.google.colaboratory.intrinsic+json": {
              "type": "string"
            }
          },
          "metadata": {},
          "execution_count": 2
        }
      ],
      "source": [
        "# function call\n",
        "function_name(\"Zain\")"
      ]
    },
    {
      "cell_type": "code",
      "execution_count": 3,
      "metadata": {
        "colab": {
          "base_uri": "https://localhost:8080/"
        },
        "id": "b1fGRAoM-gCC",
        "outputId": "9e03ea44-39bf-4413-c517-977cd0a81fb1"
      },
      "outputs": [
        {
          "output_type": "execute_result",
          "data": {
            "text/plain": [
              "<function __main__.function_name(param1, param2=1)>"
            ]
          },
          "metadata": {},
          "execution_count": 3
        }
      ],
      "source": [
        "function_name"
      ]
    },
    {
      "cell_type": "markdown",
      "metadata": {
        "id": "BDWFZ7LN-gCC"
      },
      "source": [
        "- Słowo kluczowe __def__ pokazuje pythona, którego zamierzasz zdefiniować.\n",
        "- __Nazwa funkcji__ jest następna, nazwij wszystkie małe litery, oddzielone podkreśleniami, nie używaj wbudowanych słów kluczowych: zobacz PEP8 po szczegóły.\n",
        "- __Parametry__ zdefiniowane w nawiasach.\n",
        "- __Argumenty domyślne__ to argumenty, które mają wartość domyślną do przywrócenia, jeśli nie określono innej wartości. W tym przypadku param2 = 1 oznacza, że ​​param2 będzie wynosić 1, chyba że zostanie określone jako coś innego w wywołaniu funkcji.\n",
        "- __Dwukropek__ oznacza koniec linii definicji, następny wiersz będzie wcięty.\n",
        "- __Docstrings__ wyjaśnij, co robi funkcja: przeczytaj PEP257 lub google __*'python docstrings'*__, aby uzyskać wskazówki.\n",
        "- https://www.python.org/dev/peps/pep-0257/\n",
        "- Słowo kluczowe __return__ wskazuje wyjście funkcji.\n",
        "<br><br>\n",
        "- Wykonując wywołanie funkcji, piszemy nazwę funkcji, a po niej nawiasy zawierające argumenty do przekazania.\n",
        "- __POWOLNY BŁĄD: jeśli wywołasz funkcję bez nawiasów, nie będzie działać!!!__\n",
        "- Po prostu pokaże informacje o funkcji, w tym moduł, do którego należy, jej nazwę i parametry, które przyjmuje."
      ]
    },
    {
      "cell_type": "markdown",
      "metadata": {
        "id": "SpN_jUq8-gCC"
      },
      "source": [
        "## help()"
      ]
    },
    {
      "cell_type": "markdown",
      "metadata": {
        "id": "aZrHLjDd-gCC"
      },
      "source": [
        "- Możemy użyć funkcji help(), aby znaleźć dokumentację, jeśli nie wiemy, co robi funkcja.\n",
        "- Lub naciśnij Shift + Tab.\n",
        "- Aby uzyskać bardziej szczegółową dokumentację, lepiej znaleźć i wykorzystać pełną dokumentację funkcji (google it!)."
      ]
    },
    {
      "cell_type": "code",
      "execution_count": 4,
      "metadata": {
        "colab": {
          "base_uri": "https://localhost:8080/"
        },
        "id": "vzker3Xm-gCC",
        "outputId": "9499451e-ab69-4837-d39c-8375dac7afc7"
      },
      "outputs": [
        {
          "output_type": "stream",
          "name": "stdout",
          "text": [
            "Help on function function_name in module __main__:\n",
            "\n",
            "function_name(param1, param2=1)\n",
            "    DOCSTRING: explains function\n",
            "    INPUT: Name (str)\n",
            "    OUTPUT: Hello Name (str)\n",
            "\n"
          ]
        }
      ],
      "source": [
        "help(function_name)"
      ]
    },
    {
      "cell_type": "code",
      "execution_count": 5,
      "metadata": {
        "colab": {
          "base_uri": "https://localhost:8080/"
        },
        "id": "Lz24-UxM-gCC",
        "outputId": "79727b3c-90bb-4bab-96da-4c82b10abce3"
      },
      "outputs": [
        {
          "output_type": "stream",
          "name": "stdout",
          "text": [
            "Help on built-in function print in module builtins:\n",
            "\n",
            "print(...)\n",
            "    print(value, ..., sep=' ', end='\\n', file=sys.stdout, flush=False)\n",
            "    \n",
            "    Prints the values to a stream, or to sys.stdout by default.\n",
            "    Optional keyword arguments:\n",
            "    file:  a file-like object (stream); defaults to the current sys.stdout.\n",
            "    sep:   string inserted between values, default a space.\n",
            "    end:   string appended after the last value, default a newline.\n",
            "    flush: whether to forcibly flush the stream.\n",
            "\n"
          ]
        }
      ],
      "source": [
        "help(print)"
      ]
    },
    {
      "cell_type": "markdown",
      "metadata": {
        "id": "3kIdOvpm-gCD"
      },
      "source": [
        "## Zakres zmiennej"
      ]
    },
    {
      "cell_type": "markdown",
      "metadata": {
        "id": "-Mni_KYb-gCD"
      },
      "source": [
        "- Zakres zmiennej odnosi się do części programu, które mogą odwoływać się do zmiennej.\n",
        "- Istnieją 2 rodzaje zasięgu: lokalny i globalny.\n",
        "— Do zmiennej zdefiniowanej wewnątrz funkcji można się odwoływać tylko wewnątrz tej funkcji: zakres lokalny.\n",
        "— Do zmiennej zdefiniowanej poza funkcją (w ogólnym skrypcie) można się odwoływać wewnątrz funkcji, ale nie można jej modyfikować wewnątrz funkcji (UnboundLocalError).\n",
        "- Aby zmienić go w funkcji, należy go ponownie zdefiniować w funkcji."
      ]
    },
    {
      "cell_type": "code",
      "execution_count": 6,
      "metadata": {
        "colab": {
          "base_uri": "https://localhost:8080/",
          "height": 331
        },
        "id": "e2VD-6o7-gCD",
        "outputId": "56cc170c-74c8-4be5-fab1-5c1e7eb9f66c"
      },
      "outputs": [
        {
          "output_type": "error",
          "ename": "UnboundLocalError",
          "evalue": "ignored",
          "traceback": [
            "\u001b[0;31m---------------------------------------------------------------------------\u001b[0m",
            "\u001b[0;31mUnboundLocalError\u001b[0m                         Traceback (most recent call last)",
            "\u001b[0;32m<ipython-input-6-104dbc483606>\u001b[0m in \u001b[0;36m<cell line: 6>\u001b[0;34m()\u001b[0m\n\u001b[1;32m      4\u001b[0m     \u001b[0mcounter\u001b[0m \u001b[0;34m+=\u001b[0m \u001b[0;36m12\u001b[0m \u001b[0;31m# add 12 to counter\u001b[0m\u001b[0;34m\u001b[0m\u001b[0;34m\u001b[0m\u001b[0m\n\u001b[1;32m      5\u001b[0m \u001b[0;34m\u001b[0m\u001b[0m\n\u001b[0;32m----> 6\u001b[0;31m \u001b[0madd_to_counter\u001b[0m\u001b[0;34m(\u001b[0m\u001b[0;34m)\u001b[0m\u001b[0;34m\u001b[0m\u001b[0;34m\u001b[0m\u001b[0m\n\u001b[0m",
            "\u001b[0;32m<ipython-input-6-104dbc483606>\u001b[0m in \u001b[0;36madd_to_counter\u001b[0;34m()\u001b[0m\n\u001b[1;32m      2\u001b[0m \u001b[0;34m\u001b[0m\u001b[0m\n\u001b[1;32m      3\u001b[0m \u001b[0;32mdef\u001b[0m \u001b[0madd_to_counter\u001b[0m\u001b[0;34m(\u001b[0m\u001b[0;34m)\u001b[0m\u001b[0;34m:\u001b[0m\u001b[0;34m\u001b[0m\u001b[0;34m\u001b[0m\u001b[0m\n\u001b[0;32m----> 4\u001b[0;31m     \u001b[0mcounter\u001b[0m \u001b[0;34m+=\u001b[0m \u001b[0;36m12\u001b[0m \u001b[0;31m# add 12 to counter\u001b[0m\u001b[0;34m\u001b[0m\u001b[0;34m\u001b[0m\u001b[0m\n\u001b[0m\u001b[1;32m      5\u001b[0m \u001b[0;34m\u001b[0m\u001b[0m\n\u001b[1;32m      6\u001b[0m \u001b[0madd_to_counter\u001b[0m\u001b[0;34m(\u001b[0m\u001b[0;34m)\u001b[0m\u001b[0;34m\u001b[0m\u001b[0;34m\u001b[0m\u001b[0m\n",
            "\u001b[0;31mUnboundLocalError\u001b[0m: local variable 'counter' referenced before assignment"
          ]
        }
      ],
      "source": [
        "counter = 0\n",
        "\n",
        "def add_to_counter():\n",
        "    counter += 12 # add 12 to counter\n",
        "\n",
        "add_to_counter()"
      ]
    },
    {
      "cell_type": "code",
      "execution_count": 7,
      "metadata": {
        "colab": {
          "base_uri": "https://localhost:8080/"
        },
        "id": "tqwczEQC-gCD",
        "outputId": "ef430048-71bc-4aff-f112-1d7918d6c8fb"
      },
      "outputs": [
        {
          "output_type": "stream",
          "name": "stdout",
          "text": [
            "12\n"
          ]
        }
      ],
      "source": [
        "counter = 0\n",
        "\n",
        "def add_to_counter(count):\n",
        "    return count + 12  # add 12 to counter\n",
        "\n",
        "counter = add_to_counter(counter)\n",
        "\n",
        "print(counter)"
      ]
    },
    {
      "cell_type": "markdown",
      "metadata": {
        "id": "lR_KCyvv-gCD"
      },
      "source": [
        "## Ćwiczenie 1"
      ]
    },
    {
      "cell_type": "markdown",
      "metadata": {
        "id": "mmM57iRE-gCD"
      },
      "source": [
        "Napisz funkcję o nazwie check_range, która sprawdza, czy liczba znajduje się w podanym zakresie (zawiera zarówno niski *__i__* wysoki). <br>\n",
        "Jeśli tak, zwróć „x jest między y a z”. <br>\n",
        "Jeśli tak nie jest, zwróć „x NIE jest między y a z”. <br>\n",
        "Gdzie:\n",
        "- x to liczba\n",
        "- y jest dolną granicą\n",
        "- z to górna granica"
      ]
    },
    {
      "cell_type": "code",
      "execution_count": 8,
      "metadata": {
        "id": "724BjQdU-gCD"
      },
      "outputs": [],
      "source": [
        "# CODE HERE\n",
        "def check_range(x, y, z):\n",
        "  if x > y and x < z:\n",
        "    print(f'{x} jest między {y} a {z}')\n",
        "  else:\n",
        "    print(f'{x} NIE jest między {y} a {z}')"
      ]
    },
    {
      "cell_type": "code",
      "execution_count": 9,
      "metadata": {
        "colab": {
          "base_uri": "https://localhost:8080/"
        },
        "id": "I9UpYLVP-gCD",
        "outputId": "73191e24-83c9-4532-b1bf-8c542036a952"
      },
      "outputs": [
        {
          "output_type": "stream",
          "name": "stdout",
          "text": [
            "34 jest między 9 a 228\n"
          ]
        }
      ],
      "source": [
        "check_range(34, 9, 228)"
      ]
    },
    {
      "cell_type": "code",
      "execution_count": 10,
      "metadata": {
        "colab": {
          "base_uri": "https://localhost:8080/"
        },
        "id": "f3UB4uOi-gCE",
        "outputId": "72d4bab9-e59b-4b15-ab4d-89d8497d813d"
      },
      "outputs": [
        {
          "output_type": "stream",
          "name": "stdout",
          "text": [
            "7 NIE jest między 2 a 5\n"
          ]
        }
      ],
      "source": [
        "check_range(7, 2, 5)"
      ]
    },
    {
      "cell_type": "markdown",
      "metadata": {
        "id": "6PMoAyBb-gCE"
      },
      "source": [
        "Napisz funkcję o nazwie bool_range, która robi to samo, ale zwraca tylko wartość logiczną."
      ]
    },
    {
      "cell_type": "code",
      "execution_count": 15,
      "metadata": {
        "id": "JIp7hL1P-gCE"
      },
      "outputs": [],
      "source": [
        "# CODE HERE\n",
        "def bool_range(x, y, z):\n",
        "  if x > y and x < z:\n",
        "    return True\n",
        "  else:\n",
        "    return False"
      ]
    },
    {
      "cell_type": "code",
      "execution_count": 16,
      "metadata": {
        "colab": {
          "base_uri": "https://localhost:8080/"
        },
        "id": "_jL5mhHm-gCE",
        "outputId": "3f454a1d-ef15-4c69-e5ab-4322d51e8db8"
      },
      "outputs": [
        {
          "output_type": "execute_result",
          "data": {
            "text/plain": [
              "True"
            ]
          },
          "metadata": {},
          "execution_count": 16
        }
      ],
      "source": [
        "bool_range(7, 5, 20)"
      ]
    },
    {
      "cell_type": "code",
      "execution_count": 17,
      "metadata": {
        "colab": {
          "base_uri": "https://localhost:8080/"
        },
        "id": "xQFfbAby-gCE",
        "outputId": "d67591c3-c7f8-4e2e-8ab8-9d16019dffb7"
      },
      "outputs": [
        {
          "output_type": "execute_result",
          "data": {
            "text/plain": [
              "False"
            ]
          },
          "metadata": {},
          "execution_count": 17
        }
      ],
      "source": [
        "bool_range(67, 22, 25)"
      ]
    },
    {
      "cell_type": "markdown",
      "metadata": {
        "id": "fBwSFgNB-gCE"
      },
      "source": [
        "## Ćwiczenie 2"
      ]
    },
    {
      "cell_type": "markdown",
      "metadata": {
        "id": "J0Kpm5Kq-gCE"
      },
      "source": [
        "Napisz funkcję o nazwie unique_list, która pobiera listę i zwraca listę zawierającą tylko unikalne elementy danych wejściowych."
      ]
    },
    {
      "cell_type": "code",
      "execution_count": 22,
      "metadata": {
        "id": "yqjG2QXT-gCE"
      },
      "outputs": [],
      "source": [
        "# CODE HERE\n",
        "def unique_list(l):\n",
        "  unique_l = []\n",
        "  for elem in l:\n",
        "    if elem not in unique_l:\n",
        "      unique_l.append(elem)\n",
        "\n",
        "  return unique_l"
      ]
    },
    {
      "cell_type": "code",
      "execution_count": 23,
      "metadata": {
        "colab": {
          "base_uri": "https://localhost:8080/"
        },
        "id": "3WhTkdAa-gCE",
        "outputId": "4f7a90fb-24c3-4c7c-bffc-d92e49d75ab9"
      },
      "outputs": [
        {
          "output_type": "execute_result",
          "data": {
            "text/plain": [
              "[1, 3, 5, 6, 4, 2, 12, 63]"
            ]
          },
          "metadata": {},
          "execution_count": 23
        }
      ],
      "source": [
        "my_list = [1,3,5,6,4,3,2,3,3,4,3,4,5,6,6,4,3,2,12,3,5,63,4,5,3,3,2]\n",
        "\n",
        "unique_list(my_list)"
      ]
    },
    {
      "cell_type": "markdown",
      "metadata": {
        "id": "HbR2wJIe-gCE"
      },
      "source": [
        "Znajdź inny sposób wykonania tej samej operacji bez definiowania funkcji."
      ]
    },
    {
      "cell_type": "code",
      "execution_count": 21,
      "metadata": {
        "colab": {
          "base_uri": "https://localhost:8080/"
        },
        "id": "VGPkJMJG-gCE",
        "outputId": "a29d54bd-770c-4e8c-d538-b54003630de2"
      },
      "outputs": [
        {
          "output_type": "execute_result",
          "data": {
            "text/plain": [
              "[1, 2, 3, 4, 5, 6, 12, 63]"
            ]
          },
          "metadata": {},
          "execution_count": 21
        }
      ],
      "source": [
        "# CODE HERE\n",
        "list(set(my_list))"
      ]
    },
    {
      "cell_type": "markdown",
      "metadata": {
        "id": "CcXm844g-gCE"
      },
      "source": [
        "## Ćwiczenie 3"
      ]
    },
    {
      "cell_type": "markdown",
      "metadata": {
        "id": "-8mm8NcC-gCF"
      },
      "source": [
        "Napisz funkcję o nazwie objętość_kuli, która przyjmuje promień kuli i zwraca jej objętość zaokrągloną do 2 dp. (Google wzór na objętość kuli, użyj pi = 3,14)"
      ]
    },
    {
      "cell_type": "code",
      "execution_count": 24,
      "metadata": {
        "id": "KdCvHvI3-gCF"
      },
      "outputs": [],
      "source": [
        "# CODE HERE\n",
        "def volume_of_sphere(radius):\n",
        "  return round((4/3) * 3.14 * radius**3, 2)"
      ]
    },
    {
      "cell_type": "code",
      "execution_count": 25,
      "metadata": {
        "colab": {
          "base_uri": "https://localhost:8080/"
        },
        "id": "_NZO7l18-gCF",
        "outputId": "8f29003e-8db5-4e8a-dfe0-5942953df47e"
      },
      "outputs": [
        {
          "output_type": "execute_result",
          "data": {
            "text/plain": [
              "33.49"
            ]
          },
          "metadata": {},
          "execution_count": 25
        }
      ],
      "source": [
        "volume_of_sphere(2)"
      ]
    },
    {
      "cell_type": "code",
      "execution_count": null,
      "metadata": {
        "id": "oP8_8CMf-gCF"
      },
      "outputs": [],
      "source": []
    },
    {
      "cell_type": "markdown",
      "metadata": {
        "id": "1BBwObCM-gCF"
      },
      "source": [
        "## Rekurencja"
      ]
    },
    {
      "cell_type": "markdown",
      "metadata": {
        "id": "SMMXkt6_-gCF"
      },
      "source": [
        "- Funkcja rekurencyjna to funkcja, która wywołuje siebie w ramach swojej definicji.\n",
        "- Na początku może to być trudne do zrozumienia, ale pomyśl o tym jako o przełamaniu dużego problemu w wielokrotne robienie małego problemu.\n",
        "- Oznacza to, że złożony problem można uprościć, powtarzając przy każdym powtórzeniu prostszą i prostszą formę tego samego problemu.\n",
        "- Musimy jednak podać „najprostszą formę” funkcji, w której funkcja się zatrzymuje, w przeciwnym razie będzie się powtarzać w nieskończoność i wygeneruje błąd.\n",
        "- Nazywamy tę „najprostszą formę” przypadkiem podstawowym.\n",
        "- Najlepiej ilustruje to przykład:"
      ]
    },
    {
      "cell_type": "code",
      "execution_count": 26,
      "metadata": {
        "colab": {
          "base_uri": "https://localhost:8080/"
        },
        "id": "PuNo4XD8-gCF",
        "outputId": "d27ffc7d-ef3f-4e58-90d2-189929491c13"
      },
      "outputs": [
        {
          "output_type": "stream",
          "name": "stdout",
          "text": [
            "5\n",
            "4\n",
            "3\n",
            "2\n",
            "1\n",
            "0\n"
          ]
        }
      ],
      "source": [
        "# Funkcja, która przyjmuje jako wejście liczbę początkową do odliczania\n",
        "def countdown(n):\n",
        "\n",
        "    # przypadek podstawowy: w tym miejscu funkcja ostatecznie się zatrzyma\n",
        "    if n == 0:\n",
        "        print(0)\n",
        "\n",
        "    # tutaj redukujemy problem do prostszej wersji\n",
        "    else:\n",
        "\n",
        "        #wypisujemy numer odliczania\n",
        "        print(n)\n",
        "\n",
        "        # powtarzamy funkcję z następną najmniejszą liczbą\n",
        "        countdown(n-1)\n",
        "\n",
        "\n",
        "countdown(5)"
      ]
    },
    {
      "cell_type": "code",
      "execution_count": null,
      "metadata": {
        "id": "44WVgK4G-gCF"
      },
      "outputs": [],
      "source": []
    },
    {
      "cell_type": "markdown",
      "metadata": {
        "id": "FM-yGO6r-gCF"
      },
      "source": [
        "## Ćwiczenie 4"
      ]
    },
    {
      "cell_type": "markdown",
      "metadata": {
        "id": "KxAhKDKO-gCG"
      },
      "source": [
        "Zdefiniuj funkcję rekurencyjną o nazwie num_fact, która zwraca silnię podanej liczby."
      ]
    },
    {
      "cell_type": "code",
      "execution_count": 27,
      "metadata": {
        "id": "CIZ2SquY-gCG"
      },
      "outputs": [],
      "source": [
        "# CODE HERE\n",
        "def num_fact(num):\n",
        "  if num == 0:\n",
        "    return 1\n",
        "  else:\n",
        "    return num * num_fact(num - 1)"
      ]
    },
    {
      "cell_type": "code",
      "execution_count": 28,
      "metadata": {
        "colab": {
          "base_uri": "https://localhost:8080/"
        },
        "id": "9wG47YA0-gCG",
        "outputId": "7b017483-99f1-4d4a-953b-ead864d831d1"
      },
      "outputs": [
        {
          "output_type": "execute_result",
          "data": {
            "text/plain": [
              "3628800"
            ]
          },
          "metadata": {},
          "execution_count": 28
        }
      ],
      "source": [
        "num_fact(10)"
      ]
    },
    {
      "cell_type": "code",
      "execution_count": null,
      "metadata": {
        "id": "_CkYsyKA-gCG"
      },
      "outputs": [],
      "source": []
    },
    {
      "cell_type": "markdown",
      "metadata": {
        "id": "xG5Fj0zx-gCG"
      },
      "source": [
        "## Dalsza lektura\n",
        "- Python Function Definitions: https://docs.python.org/3/reference/compound_stmts.html#function-definitions\n",
        "- Python Docstring Conventions: https://www.python.org/dev/peps/pep-0257/"
      ]
    },
    {
      "cell_type": "code",
      "execution_count": null,
      "metadata": {
        "id": "H5d-2jeX-gCG"
      },
      "outputs": [],
      "source": []
    }
  ],
  "metadata": {
    "kernelspec": {
      "display_name": "Python 3",
      "language": "python",
      "name": "python3"
    },
    "language_info": {
      "codemirror_mode": {
        "name": "ipython",
        "version": 3
      },
      "file_extension": ".py",
      "mimetype": "text/x-python",
      "name": "python",
      "nbconvert_exporter": "python",
      "pygments_lexer": "ipython3",
      "version": "3.7.6"
    },
    "colab": {
      "provenance": [],
      "toc_visible": true
    }
  },
  "nbformat": 4,
  "nbformat_minor": 0
}